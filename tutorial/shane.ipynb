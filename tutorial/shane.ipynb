{
 "cells": [
  {
   "cell_type": "code",
   "execution_count": 1,
   "metadata": {},
   "outputs": [
    {
     "data": {
      "text/plain": [
       "[5, 8, 12, 15, 18, 22, 25, 28, 30]"
      ]
     },
     "execution_count": 1,
     "metadata": {},
     "output_type": "execute_result"
    }
   ],
   "source": [
    "import numpy as np \n",
    "import pandas as pd \n",
    "\n",
    "data = [5, 8, 12, 15, 18, 22, 25, 28, 30]\n",
    "data\n",
    "\n",
    "#mean\n",
    "mean_value = np.mean(data)\n",
    "print(f\"Mean: {mean_value :.3f}\") \n",
    "\n",
    "#median\n",
    "median_value = np.median(data)\n",
    "print(f\"Median: {median_value}\")\n",
    "\n",
    "\n",
    "#mode\n",
    "mode_value = pd.Series(data).mode()\n",
    "print(f\"Mode: {mode_value.tolist() if not mode_value.empty else 'No mode'}\")\n",
    "\n",
    "\n",
    "#range\n",
    "# difference between the minimum and maximum number in the dataset\n",
    "\n",
    "range_value = np.max(data) - np.min(data)\n",
    "print(f\"Range: {range_value}\")\n",
    "\n",
    "\n",
    "#variance\n",
    "variance_value = np.var(data, ddof=1)\n",
    "print(f\"Variance: {variance_value}\")\n",
    "\n",
    "#standard deviation\n",
    "std_dev = np.std(data, ddof=1)\n",
    "print(f\"Standard Deviation: {std_dev}\")"
   ]
  }
 ],
 "metadata": {
  "kernelspec": {
   "display_name": "Python 3",
   "language": "python",
   "name": "python3"
  },
  "language_info": {
   "codemirror_mode": {
    "name": "ipython",
    "version": 3
   },
   "file_extension": ".py",
   "mimetype": "text/x-python",
   "name": "python",
   "nbconvert_exporter": "python",
   "pygments_lexer": "ipython3",
   "version": "3.12.5"
  }
 },
 "nbformat": 4,
 "nbformat_minor": 2
}
