{
 "cells": [
  {
   "cell_type": "code",
   "execution_count": 1,
   "metadata": {},
   "outputs": [],
   "source": [
    "import numpy as np \n",
    "import pandas as pd "
   ]
  },
  {
   "cell_type": "code",
   "execution_count": 5,
   "metadata": {},
   "outputs": [
    {
     "data": {
      "text/plain": [
       "[5, 8, 12, 15, 18, 22, 25, 28, 30]"
      ]
     },
     "execution_count": 5,
     "metadata": {},
     "output_type": "execute_result"
    }
   ],
   "source": [
    "data = [5, 8, 12, 15, 18, 22, 25, 28, 30]\n",
    "data"
   ]
  },
  {
   "cell_type": "code",
   "execution_count": 8,
   "metadata": {},
   "outputs": [
    {
     "name": "stdout",
     "output_type": "stream",
     "text": [
      "Mean: 18.111\n"
     ]
    }
   ],
   "source": [
    "#mean\n",
    "mean_value = np.mean(data)\n",
    "print(f\"Mean: {mean_value :.3f}\") "
   ]
  },
  {
   "cell_type": "code",
   "execution_count": 9,
   "metadata": {},
   "outputs": [
    {
     "name": "stdout",
     "output_type": "stream",
     "text": [
      "Median: 18.0\n"
     ]
    }
   ],
   "source": [
    "#median\n",
    "median_value = np.median(data)\n",
    "print(f\"Median: {median_value}\")"
   ]
  },
  {
   "cell_type": "code",
   "execution_count": 11,
   "metadata": {},
   "outputs": [
    {
     "name": "stdout",
     "output_type": "stream",
     "text": [
      "Mode: [5, 8, 12, 15, 18, 22, 25, 28, 30]\n"
     ]
    }
   ],
   "source": [
    "#mode\n",
    "#convert to a list using pandas\n",
    "\n",
    "mode_value = pd.Series(data).mode()\n",
    "print(f\"Mode: {mode_value.tolist() if not mode_value.empty else 'No mode'}\")"
   ]
  },
  {
   "cell_type": "code",
   "execution_count": 12,
   "metadata": {},
   "outputs": [
    {
     "name": "stdout",
     "output_type": "stream",
     "text": [
      "Range: 25\n"
     ]
    }
   ],
   "source": [
    "#range\n",
    "# difference between the minimum and maximum number in the dataset\n",
    "\n",
    "range_value = np.max(data) - np.min(data)\n",
    "print(f\"Range: {range_value}\")"
   ]
  },
  {
   "cell_type": "code",
   "execution_count": 13,
   "metadata": {},
   "outputs": [
    {
     "name": "stdout",
     "output_type": "stream",
     "text": [
      "Variance: 77.86111111111111\n"
     ]
    }
   ],
   "source": [
    "#variance\n",
    "# The average of the squared differences between each data pount and and the meanIt gives a sense of how spread out the data points are.\n",
    "\n",
    "variance_value = np.var(data, ddof=1)\n",
    "print(f\"Variance: {variance_value}\")"
   ]
  },
  {
   "cell_type": "code",
   "execution_count": 14,
   "metadata": {},
   "outputs": [
    {
     "name": "stdout",
     "output_type": "stream",
     "text": [
      "Standard Deviation: 8.823894327966032\n"
     ]
    }
   ],
   "source": [
    "#standard deviation\n",
    "std_dev = np.std(data, ddof=1)\n",
    "print(f\"Standard Deviation: {std_dev}\")"
   ]
  },
  {
   "cell_type": "code",
   "execution_count": null,
   "metadata": {},
   "outputs": [],
   "source": [
    "#Interquartile range (IQR)\n",
    "q1 = np.percentile(data, 25)\n",
    "q2 = np.percentile(data, 25)\n"
   ]
  }
 ],
 "metadata": {
  "kernelspec": {
   "display_name": "Python 3",
   "language": "python",
   "name": "python3"
  },
  "language_info": {
   "codemirror_mode": {
    "name": "ipython",
    "version": 3
   },
   "file_extension": ".py",
   "mimetype": "text/x-python",
   "name": "python",
   "nbconvert_exporter": "python",
   "pygments_lexer": "ipython3",
   "version": "3.12.5"
  }
 },
 "nbformat": 4,
 "nbformat_minor": 2
}
