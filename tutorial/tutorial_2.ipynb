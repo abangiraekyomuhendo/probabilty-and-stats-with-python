{
 "cells": [
  {
   "cell_type": "code",
   "execution_count": 1,
   "metadata": {},
   "outputs": [],
   "source": [
    "import numpy as np \n",
    "import pandas as pd "
   ]
  },
  {
   "cell_type": "code",
   "execution_count": 31,
   "metadata": {},
   "outputs": [
    {
     "data": {
      "text/plain": [
       "[5, 8, 12, 15, 18, 22, 25, 28, 30]"
      ]
     },
     "execution_count": 31,
     "metadata": {},
     "output_type": "execute_result"
    }
   ],
   "source": [
    "data2 = [5, 8, 12, 15, 18, 22, 25, 28, 30]\n",
    "data2"
   ]
  },
  {
   "cell_type": "markdown",
   "metadata": {},
   "source": [
    "using numpy"
   ]
  },
  {
   "cell_type": "code",
   "execution_count": 8,
   "metadata": {},
   "outputs": [
    {
     "name": "stdout",
     "output_type": "stream",
     "text": [
      "Mean: 18.111\n"
     ]
    }
   ],
   "source": [
    "#mean\n",
    "mean_value = np.mean(data2)\n",
    "print(f\"Mean: {mean_value :.3f}\") "
   ]
  },
  {
   "cell_type": "code",
   "execution_count": 9,
   "metadata": {},
   "outputs": [
    {
     "name": "stdout",
     "output_type": "stream",
     "text": [
      "Median: 18.0\n"
     ]
    }
   ],
   "source": [
    "#median\n",
    "median_value = np.median(data2)\n",
    "print(f\"Median: {median_value}\")"
   ]
  },
  {
   "cell_type": "code",
   "execution_count": 11,
   "metadata": {},
   "outputs": [
    {
     "name": "stdout",
     "output_type": "stream",
     "text": [
      "Mode: [5, 8, 12, 15, 18, 22, 25, 28, 30]\n"
     ]
    }
   ],
   "source": [
    "#mode\n",
    "#convert to a list using pandas\n",
    "\n",
    "mode_value = pd.Series(data2).mode()\n",
    "print(f\"Mode: {mode_value.tolist() if not mode_value.empty else 'No mode'}\")"
   ]
  },
  {
   "cell_type": "code",
   "execution_count": 12,
   "metadata": {},
   "outputs": [
    {
     "name": "stdout",
     "output_type": "stream",
     "text": [
      "Range: 25\n"
     ]
    }
   ],
   "source": [
    "#range\n",
    "# difference between the minimum and maximum number in the dataset\n",
    "\n",
    "range_value = np.max(data2) - np.min(data2)\n",
    "print(f\"Range: {range_value}\")"
   ]
  },
  {
   "cell_type": "code",
   "execution_count": 13,
   "metadata": {},
   "outputs": [
    {
     "name": "stdout",
     "output_type": "stream",
     "text": [
      "Variance: 77.86111111111111\n"
     ]
    }
   ],
   "source": [
    "#variance\n",
    "# The average of the squared differences between each data pount and and the meanIt gives a sense of how spread out the data points are.\n",
    "\n",
    "variance_value = np.var(data2, ddof=1)\n",
    "print(f\"Variance: {variance_value}\")"
   ]
  },
  {
   "cell_type": "code",
   "execution_count": 14,
   "metadata": {},
   "outputs": [
    {
     "name": "stdout",
     "output_type": "stream",
     "text": [
      "Standard Deviation: 8.823894327966032\n"
     ]
    }
   ],
   "source": [
    "#standard deviation\n",
    "std_dev = np.std(data2, ddof=1)\n",
    "print(f\"Standard Deviation: {std_dev}\")"
   ]
  },
  {
   "cell_type": "code",
   "execution_count": 15,
   "metadata": {},
   "outputs": [
    {
     "name": "stdout",
     "output_type": "stream",
     "text": [
      "Q1: 12.0, Q3: 25.0, IQR: 13.0\n"
     ]
    }
   ],
   "source": [
    "#Interquartile range (IQR)\n",
    "q1 = np.percentile(data2, 25)\n",
    "q3 = np.percentile(data2, 75)\n",
    "\n",
    "iqr = q3 - q1\n",
    "print(f\"Q1: {q1}, Q3: {q3}, IQR: {iqr}\")\n"
   ]
  },
  {
   "cell_type": "markdown",
   "metadata": {},
   "source": [
    "MONTHLY EXPENSES"
   ]
  },
  {
   "cell_type": "code",
   "execution_count": 21,
   "metadata": {},
   "outputs": [
    {
     "data": {
      "text/plain": [
       "0    220\n",
       "1    185\n",
       "2    210\n",
       "3    250\n",
       "4    240\n",
       "dtype: int64"
      ]
     },
     "execution_count": 21,
     "metadata": {},
     "output_type": "execute_result"
    }
   ],
   "source": [
    "expenses=[220,185,210,250,240,195,180,230,200,260,215,205]\n",
    "\n",
    "data = pd.Series(expenses)\n",
    "\n",
    "data.head()"
   ]
  },
  {
   "cell_type": "code",
   "execution_count": 27,
   "metadata": {},
   "outputs": [
    {
     "data": {
      "text/plain": [
       "np.float64(215.83333333333334)"
      ]
     },
     "execution_count": 27,
     "metadata": {},
     "output_type": "execute_result"
    }
   ],
   "source": [
    "#mean\n",
    "data.mean()\n",
    "#print(f\"Mean: {data()}\")"
   ]
  },
  {
   "cell_type": "code",
   "execution_count": 37,
   "metadata": {},
   "outputs": [
    {
     "data": {
      "text/plain": [
       "0     180\n",
       "1     185\n",
       "2     195\n",
       "3     200\n",
       "4     205\n",
       "5     210\n",
       "6     215\n",
       "7     220\n",
       "8     230\n",
       "9     240\n",
       "10    250\n",
       "11    260\n",
       "dtype: int64"
      ]
     },
     "execution_count": 37,
     "metadata": {},
     "output_type": "execute_result"
    }
   ],
   "source": [
    "data.mode()"
   ]
  },
  {
   "cell_type": "code",
   "execution_count": 49,
   "metadata": {},
   "outputs": [
    {
     "name": "stdout",
     "output_type": "stream",
     "text": [
      "no mode\n"
     ]
    }
   ],
   "source": [
    "#data2.mode()\n",
    "\n",
    "if (len(expenses) == len(data.mode())):\n",
    "    print(\"no mode\")\n",
    "else:\n",
    "    print(data.mode()[0])"
   ]
  },
  {
   "cell_type": "code",
   "execution_count": 54,
   "metadata": {},
   "outputs": [
    {
     "data": {
      "text/plain": [
       "np.int64(80)"
      ]
     },
     "execution_count": 54,
     "metadata": {},
     "output_type": "execute_result"
    }
   ],
   "source": [
    "#range\n",
    "data.max() - data.min()\n"
   ]
  },
  {
   "cell_type": "code",
   "execution_count": 56,
   "metadata": {},
   "outputs": [
    {
     "data": {
      "text/plain": [
       "'25.2112288594995'"
      ]
     },
     "execution_count": 56,
     "metadata": {},
     "output_type": "execute_result"
    }
   ],
   "source": [
    "#standard deviation \n",
    "f\"{data.std()}\" #this is how to avoid the np.float thingy in print"
   ]
  },
  {
   "cell_type": "code",
   "execution_count": 57,
   "metadata": {},
   "outputs": [
    {
     "data": {
      "text/plain": [
       "np.float64(635.6060606060605)"
      ]
     },
     "execution_count": 57,
     "metadata": {},
     "output_type": "execute_result"
    }
   ],
   "source": [
    "#variance\n",
    "data.var()"
   ]
  },
  {
   "cell_type": "code",
   "execution_count": 60,
   "metadata": {},
   "outputs": [
    {
     "name": "stdout",
     "output_type": "stream",
     "text": [
      "Q1: 198.75 \n",
      " Q3: 232.5 \n",
      " IQR: 33.75\n"
     ]
    }
   ],
   "source": [
    "#iqr\n",
    "\n",
    "lower_quatile = data.quantile(0.25)\n",
    "upper_quatile = data.quantile(0.75)\n",
    "IQR = upper_quatile - lower_quatile\n",
    "\n",
    "print(f\"Q1: {lower_quatile} \\n Q3: {upper_quatile} \\n IQR: {IQR}\")\n",
    "# qa = data.percentile(25)\n",
    "# qb = data.percentile(75)\n",
    "# iqra = qb - q1\n",
    "\n",
    "\n",
    "\n",
    "#Interquartile range (IQR)\n",
    "# q1 = np.percentile(data2, 25)\n",
    "# q3 = np.percentile(data2, 75)\n",
    "\n",
    "# iqr = q3 - q1\n",
    "# print(f\"Q1: {q1}, Q3: {q3}, IQR: {iqr}\")"
   ]
  },
  {
   "cell_type": "code",
   "execution_count": 33,
   "metadata": {},
   "outputs": [
    {
     "data": {
      "text/plain": [
       "np.float64(18.0)"
      ]
     },
     "execution_count": 33,
     "metadata": {},
     "output_type": "execute_result"
    }
   ],
   "source": [
    "data.median()\n",
    "data2 = pd.Series(data2)\n",
    "data2.median()"
   ]
  },
  {
   "cell_type": "code",
   "execution_count": 34,
   "metadata": {},
   "outputs": [
    {
     "data": {
      "text/plain": [
       "np.float64(212.5)"
      ]
     },
     "execution_count": 34,
     "metadata": {},
     "output_type": "execute_result"
    }
   ],
   "source": [
    "np.median(expenses)"
   ]
  },
  {
   "cell_type": "markdown",
   "metadata": {},
   "source": [
    "practice"
   ]
  },
  {
   "cell_type": "code",
   "execution_count": 42,
   "metadata": {},
   "outputs": [],
   "source": [
    "test = [30,2,2,2,4,5,6]"
   ]
  },
  {
   "cell_type": "code",
   "execution_count": 43,
   "metadata": {},
   "outputs": [],
   "source": [
    "#dataframe\n",
    "df = pd.Series(test)"
   ]
  },
  {
   "cell_type": "code",
   "execution_count": 47,
   "metadata": {},
   "outputs": [
    {
     "data": {
      "text/plain": [
       "count     7.000000\n",
       "mean      7.285714\n",
       "std      10.144198\n",
       "min       2.000000\n",
       "25%       2.000000\n",
       "50%       4.000000\n",
       "75%       5.500000\n",
       "max      30.000000\n",
       "dtype: float64"
      ]
     },
     "execution_count": 47,
     "metadata": {},
     "output_type": "execute_result"
    }
   ],
   "source": [
    "df.describe()"
   ]
  },
  {
   "cell_type": "code",
   "execution_count": 48,
   "metadata": {},
   "outputs": [
    {
     "data": {
      "text/plain": [
       "0    2\n",
       "dtype: int64"
      ]
     },
     "execution_count": 48,
     "metadata": {},
     "output_type": "execute_result"
    }
   ],
   "source": [
    "df.mode()"
   ]
  }
 ],
 "metadata": {
  "kernelspec": {
   "display_name": "Python 3",
   "language": "python",
   "name": "python3"
  },
  "language_info": {
   "codemirror_mode": {
    "name": "ipython",
    "version": 3
   },
   "file_extension": ".py",
   "mimetype": "text/x-python",
   "name": "python",
   "nbconvert_exporter": "python",
   "pygments_lexer": "ipython3",
   "version": "3.12.5"
  }
 },
 "nbformat": 4,
 "nbformat_minor": 2
}
