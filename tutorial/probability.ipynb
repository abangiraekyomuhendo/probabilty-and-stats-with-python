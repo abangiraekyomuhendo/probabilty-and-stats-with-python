{
 "cells": [
  {
   "cell_type": "markdown",
   "metadata": {},
   "source": [
    "P(A) = Total number of outcomes favorable in A / Total number of outcomes in the sample space. "
   ]
  },
  {
   "cell_type": "code",
   "execution_count": 2,
   "metadata": {},
   "outputs": [
    {
     "data": {
      "text/plain": [
       "0.5"
      ]
     },
     "execution_count": 2,
     "metadata": {},
     "output_type": "execute_result"
    }
   ],
   "source": [
    "faircoin = 2 #sample space\n",
    "probaofa = 1\n",
    "probofhalf = probaofa / faircoin\n",
    "probofhalf\n"
   ]
  },
  {
   "cell_type": "code",
   "execution_count": 4,
   "metadata": {},
   "outputs": [
    {
     "data": {
      "text/plain": [
       "0.16666666666666666"
      ]
     },
     "execution_count": 4,
     "metadata": {},
     "output_type": "execute_result"
    }
   ],
   "source": [
    "#probability of getting a 3 on a dice of 6 sides\n",
    "dice = 6\n",
    "probofthree = 1\n",
    "\n",
    "prob = probofthree / dice\n",
    "\n",
    "prob\n"
   ]
  },
  {
   "cell_type": "code",
   "execution_count": null,
   "metadata": {},
   "outputs": [
    {
     "data": {
      "text/plain": [
       "0.4"
      ]
     },
     "execution_count": 7,
     "metadata": {},
     "output_type": "execute_result"
    }
   ],
   "source": [
    "# \n",
    "balls = 5\n",
    "red = 2\n",
    "\n",
    "probofred = red / balls\n",
    "\n",
    "probofred\n",
    "#test\n"
   ]
  },
  {
   "cell_type": "code",
   "execution_count": 8,
   "metadata": {},
   "outputs": [
    {
     "data": {
      "text/plain": [
       "0.4"
      ]
     },
     "execution_count": 8,
     "metadata": {},
     "output_type": "execute_result"
    }
   ],
   "source": [
    "sample_space = [\"blue\", \"red\", \"green\", \"white\", \"red\"]\n",
    "len(sample_space)\n",
    "\n",
    "#picking the red ball\n",
    "\n",
    "event_red = 2\n",
    "probofred = 2/len(sample_space)\n",
    "\n",
    "probofred"
   ]
  },
  {
   "cell_type": "code",
   "execution_count": null,
   "metadata": {},
   "outputs": [],
   "source": [
    "def probofball"
   ]
  },
  {
   "cell_type": "markdown",
   "metadata": {},
   "source": [
    "Theoretical Prob\n",
    "Experimental Prob - based on actuual eperiments.  <br>\n",
    "- Marginal prob - prob of a single event happening without considering any other events <br>\n",
    "- Joint prob - prob of two or more events happening together. For example, the prob of getting 5 on two die rolled together. SIMULTANEUSLY \n",
    "- Conditional prob - prob of an event occuring given that another has occured. AFTER. P/A = P(AnB/P(B))\n",
    "SUbjective - based on persoanl judgement"
   ]
  },
  {
   "cell_type": "markdown",
   "metadata": {},
   "source": [
    "EXAMPLE<br>\n",
    "20 Marbles in a bag <br>\n",
    "8 are red and smooth <br>\n",
    "5 red and rough <br>\n",
    "4 blue and smooth <br>\n",
    "3 blue and rough\n",
    "\n"
   ]
  },
  {
   "cell_type": "code",
   "execution_count": null,
   "metadata": {},
   "outputs": [],
   "source": [
    "#prob of red\n",
    "\n",
    "marbles = 20\n",
    "red = 13\n",
    "\n",
    "prob_ofred = red / marbles\n",
    "\n",
    "prob_ofred\n",
    "\n",
    "#probofsmooth \n",
    "\n",
    "smooth = 12\n",
    "\n",
    "prob_ofsmooth = smooth / marbles\n",
    "\n",
    "prob_ofsmooth\n"
   ]
  },
  {
   "cell_type": "markdown",
   "metadata": {},
   "source": [
    "Joint Prob\n",
    "P(A,B) = P(A) * P(B)"
   ]
  },
  {
   "cell_type": "code",
   "execution_count": 16,
   "metadata": {},
   "outputs": [
    {
     "data": {
      "text/plain": [
       "0.4"
      ]
     },
     "execution_count": 16,
     "metadata": {},
     "output_type": "execute_result"
    }
   ],
   "source": [
    "#a ball that is both red and smooth \n",
    "red_smooth = 8\n",
    "\n",
    "prob_ofredandsmooth = red_smooth / marbles\n",
    "prob_ofredandsmooth\n",
    "\n",
    "\n"
   ]
  },
  {
   "cell_type": "code",
   "execution_count": null,
   "metadata": {},
   "outputs": [],
   "source": [
    "joint_probability = len([x for x in event_one if x in event_two]) / len(sample_space)"
   ]
  }
 ],
 "metadata": {
  "kernelspec": {
   "display_name": "Python 3",
   "language": "python",
   "name": "python3"
  },
  "language_info": {
   "codemirror_mode": {
    "name": "ipython",
    "version": 3
   },
   "file_extension": ".py",
   "mimetype": "text/x-python",
   "name": "python",
   "nbconvert_exporter": "python",
   "pygments_lexer": "ipython3",
   "version": "3.12.5"
  }
 },
 "nbformat": 4,
 "nbformat_minor": 2
}
